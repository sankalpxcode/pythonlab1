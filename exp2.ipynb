{
 "cells": [
  {
   "cell_type": "code",
   "execution_count": 4,
   "id": "246a8680-44f0-4f7c-8042-73ae392a433c",
   "metadata": {},
   "outputs": [
    {
     "name": "stdout",
     "output_type": "stream",
     "text": [
      "Input: 'aaabbb' -> Output: True\n",
      "Input: 'abab' -> Output: False\n",
      "Input: 'bbb' -> Output: True\n"
     ]
    }
   ],
   "source": [
    "def checkString(s: str) -> bool:\n",
    "    seen_b = False\n",
    "    i = 0\n",
    "    while i < len(s):\n",
    "        if s[i] == 'b':\n",
    "            seen_b = True\n",
    "        elif s[i] == 'a' and seen_b:\n",
    "            return False\n",
    "        i += 1\n",
    "    return True\n",
    "\n",
    "\n",
    "test_cases = [\n",
    "    \"aaabbb\",  \n",
    "    \"abab\",    \n",
    "    \"bbb\",     \n",
    "]\n",
    "\n",
    "\n",
    "for s in test_cases:\n",
    "    result = checkString(s)\n",
    "    print(f\"Input: '{s}' -> Output: {result}\")\n"
   ]
  },
  {
   "cell_type": "code",
   "execution_count": null,
   "id": "7fdcbded-fb80-4df8-8675-7a7f34f3e461",
   "metadata": {},
   "outputs": [],
   "source": []
  }
 ],
 "metadata": {
  "kernelspec": {
   "display_name": "Python 3 (ipykernel)",
   "language": "python",
   "name": "python3"
  },
  "language_info": {
   "codemirror_mode": {
    "name": "ipython",
    "version": 3
   },
   "file_extension": ".py",
   "mimetype": "text/x-python",
   "name": "python",
   "nbconvert_exporter": "python",
   "pygments_lexer": "ipython3",
   "version": "3.13.0"
  }
 },
 "nbformat": 4,
 "nbformat_minor": 5
}
