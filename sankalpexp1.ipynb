{
 "cells": [
  {
   "cell_type": "code",
   "execution_count": 1,
   "id": "4ec31e16-7de8-4ddf-b3df-e52cdee9a9d3",
   "metadata": {},
   "outputs": [
    {
     "name": "stdout",
     "output_type": "stream",
     "text": [
      "This is a string\n",
      "This is a string\n",
      "This is a string\n",
      "[1, 'a', 'string', 3]\n",
      "[1, 'a', 'string', 3, 6]\n",
      "[1, 'a', 'string', 3]\n",
      "a\n",
      "(1, 'a', 'string', 3)\n",
      "a\n",
      "{1: 'Lorem', 2: 'Ipsum', 3: 'Dolerum'}\n",
      "{1: 'Game', 2: 'of', 3: 'Thrones'}\n",
      "{'a': 'House', 'b': 'of', 'c': 'Cards'}\n",
      "Alice\n",
      "Alice\n",
      "{1: 'Python dict', 2: 'of', 3: 'Thrones', 'age': 22}\n",
      "{1: 'sankalp', 2: 'sambro', 4: 'sauhard', 'age': 20}\n"
     ]
    }
   ],
   "source": [
    "# Assigning string to a variable\n",
    "a = 'This is a string'\n",
    "print(a)\n",
    "b = \"This is a string\"\n",
    "print(b)\n",
    "c = '''This is a string'''\n",
    "print(c)\n",
    "\n",
    "# Declaring a list\n",
    "L = [1, \"a\", \"string\", 1+2]\n",
    "print(L)\n",
    "L.append(6)\n",
    "print(L)\n",
    "L.pop()\n",
    "print(L)\n",
    "print(L[1])\n",
    "\n",
    "# Tuples in Python\n",
    "tup = (1, \"a\", \"string\", 1+2)\n",
    "print(tup)\n",
    "print(tup[1])\n",
    "\n",
    "# Dictionaries in Python\n",
    "d = {1: 'Lorem', 2: 'Ipsum', 3: 'Dolerum'}\n",
    "print(d)\n",
    "\n",
    "d1 = {1: 'Game', 2: 'of', 3: 'Thrones'}\n",
    "print(d1)\n",
    "\n",
    "d2 = dict(a=\"House\", b=\"of\", c=\"Cards\")\n",
    "print(d2)\n",
    "\n",
    "d = {\"name\": \"Alice\", 1: \"Python\", (1, 2): [1, 2, 4]}\n",
    "print(d[\"name\"])\n",
    "print(d.get(\"name\"))\n",
    "\n",
    "d = {1: 'Game', 2: 'of', 3: 'Thrones'}\n",
    "d[\"age\"] = 22\n",
    "d[1] = \"Python dict\"\n",
    "print(d)\n",
    "\n",
    "\n",
    "d ={ 1:'sankalp', 2:'sagar',3:'soham',4:'sauhard'}\n",
    "d[\"age\"] = 20\n",
    "d[2] = \"sambro\"\n",
    "del d [3]\n",
    "print(d)"
   ]
  }
 ],
 "metadata": {
  "kernelspec": {
   "display_name": "Python 3 (ipykernel)",
   "language": "python",
   "name": "python3"
  },
  "language_info": {
   "codemirror_mode": {
    "name": "ipython",
    "version": 3
   },
   "file_extension": ".py",
   "mimetype": "text/x-python",
   "name": "python",
   "nbconvert_exporter": "python",
   "pygments_lexer": "ipython3",
   "version": "3.13.1"
  }
 },
 "nbformat": 4,
 "nbformat_minor": 5
}
